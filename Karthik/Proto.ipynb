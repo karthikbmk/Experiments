{
 "cells": [
  {
   "cell_type": "markdown",
   "metadata": {
    "collapsed": true
   },
   "source": [
    "###A very horrible prototype"
   ]
  },
  {
   "cell_type": "code",
   "execution_count": null,
   "metadata": {
    "collapsed": true
   },
   "outputs": [],
   "source": [
    "from collections import defaultdict\n",
    "from sklearn.feature_extraction.text import TfidfVectorizer"
   ]
  },
  {
   "cell_type": "code",
   "execution_count": 75,
   "metadata": {
    "collapsed": false
   },
   "outputs": [],
   "source": [
    "Data_set = \\\n",
    "['What is the RAM capacity of your Apple Computer?512MB',\n",
    "'What is the color of apple fruit?Red',\n",
    "'Is apple tastier than banana fruit?Nope I hate apples',\n",
    "'Are apple computers better than windows PC?Yes,Apple is best because of good GUI',\n",
    "'Why do I have to eat an apple a day?To Keep the doctor away',\n",
    "'Does eating an apple help fight tooth decay?Yes,only if your brush your teeth']"
   ]
  },
  {
   "cell_type": "code",
   "execution_count": 77,
   "metadata": {
    "collapsed": true
   },
   "outputs": [],
   "source": [
    "My_questions = 'What is the benefit if i eat apple?'"
   ]
  },
  {
   "cell_type": "code",
   "execution_count": 37,
   "metadata": {
    "collapsed": false
   },
   "outputs": [],
   "source": [
    "questions = []\n",
    "answers = []\n",
    "for data in Data_set:\n",
    "    questions.append(data.split(\"?\")[0])\n",
    "    answers.append(data.split(\"?\")[1])\n",
    "    \n",
    "questions.append(My_questions)    \n",
    "question_index = len(questions)-1"
   ]
  },
  {
   "cell_type": "code",
   "execution_count": 38,
   "metadata": {
    "collapsed": false
   },
   "outputs": [
    {
     "data": {
      "text/plain": [
       "matrix([[ 1.        ,  0.50204387,  0.12979551,  0.02791914,  0.02747197,\n",
       "          0.02616171,  0.03866931],\n",
       "        [ 0.50204387,  1.        ,  0.32251269,  0.03443289,  0.03388139,\n",
       "          0.03226544,  0.04769115],\n",
       "        [ 0.12979551,  0.32251269,  1.        ,  0.17726035,  0.03542494,\n",
       "          0.03373537,  0.04986384],\n",
       "        [ 0.02791914,  0.03443289,  0.17726035,  1.        ,  0.02946438,\n",
       "          0.02805909,  0.04147381],\n",
       "        [ 0.02747197,  0.03388139,  0.03542494,  0.02946438,  1.        ,\n",
       "          0.10675967,  0.47804769],\n",
       "        [ 0.02616171,  0.03226544,  0.03373537,  0.02805909,  0.10675967,\n",
       "          1.        ,  0.15027397],\n",
       "        [ 0.03866931,  0.04769115,  0.04986384,  0.04147381,  0.47804769,\n",
       "          0.15027397,  1.        ]])"
      ]
     },
     "execution_count": 38,
     "metadata": {},
     "output_type": "execute_result"
    }
   ],
   "source": [
    "tfidf = TfidfVectorizer().fit_transform(questions)\n",
    "pairwise_similarity = tfidf * tfidf.T\n",
    "pairwise_similarity.todense()"
   ]
  },
  {
   "cell_type": "markdown",
   "metadata": {},
   "source": [
    "### What is the benefit if i eat apple?"
   ]
  },
  {
   "cell_type": "code",
   "execution_count": 80,
   "metadata": {
    "collapsed": false
   },
   "outputs": [
    {
     "name": "stdout",
     "output_type": "stream",
     "text": [
      "To Keep the doctor away\n"
     ]
    }
   ],
   "source": [
    "similarity_scores = pairwise_similarity.todense()[question_index][0].tolist()[0]\n",
    "similarity_scores.remove(max(similarity_scores))\n",
    "pred_question_index = similarity_scores.index(max(similarity_scores))\n",
    "print answers[pred_question_index]"
   ]
  }
 ],
 "metadata": {
  "kernelspec": {
   "display_name": "Python 2",
   "language": "python",
   "name": "python2"
  },
  "language_info": {
   "codemirror_mode": {
    "name": "ipython",
    "version": 2
   },
   "file_extension": ".py",
   "mimetype": "text/x-python",
   "name": "python",
   "nbconvert_exporter": "python",
   "pygments_lexer": "ipython2",
   "version": "2.7.11"
  }
 },
 "nbformat": 4,
 "nbformat_minor": 0
}
