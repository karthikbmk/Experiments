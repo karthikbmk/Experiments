{
 "cells": [
  {
   "cell_type": "markdown",
   "metadata": {
    "collapsed": true
   },
   "source": [
    "###A very horrible prototype"
   ]
  },
  {
   "cell_type": "code",
   "execution_count": 1,
   "metadata": {
    "collapsed": true
   },
   "outputs": [],
   "source": [
    "from collections import defaultdict\n",
    "from sklearn.feature_extraction.text import TfidfVectorizer"
   ]
  },
  {
   "cell_type": "code",
   "execution_count": 2,
   "metadata": {
    "collapsed": false
   },
   "outputs": [],
   "source": [
    "Data_set = \\\n",
    "['What is the RAM capacity of your Apple Computer?512MB',\n",
    "'What is the color of apple fruit?Red',\n",
    "'Is apple tastier than banana fruit?Nope I hate apples',\n",
    "'Are apple computers better than windows PC?Yes,Apple is best because of good GUI',\n",
    "'Why do I have to eat an apple a day?To Keep the doctor away',\n",
    "'Does eating an apple help fight tooth decay?Yes,only if your brush your teeth',\n",
    "'Who is the President of USA?Barrack Obama',\n",
    "'What is the GDP of USA?13 trillion']"
   ]
  },
  {
   "cell_type": "code",
   "execution_count": 3,
   "metadata": {
    "collapsed": true
   },
   "outputs": [],
   "source": [
    "My_questions = 'Tell something about usa?'"
   ]
  },
  {
   "cell_type": "code",
   "execution_count": 4,
   "metadata": {
    "collapsed": false
   },
   "outputs": [],
   "source": [
    "questions = []\n",
    "answers = []\n",
    "for data in Data_set:\n",
    "    questions.append(data.split(\"?\")[0])\n",
    "    answers.append(data.split(\"?\")[1])\n",
    "    \n",
    "questions.append(My_questions)    \n",
    "question_index = len(questions)-1"
   ]
  },
  {
   "cell_type": "code",
   "execution_count": 5,
   "metadata": {
    "collapsed": false
   },
   "outputs": [
    {
     "data": {
      "text/plain": [
       "matrix([[ 1.        ,  0.42213599,  0.12324278,  0.04516209,  0.04180383,\n",
       "          0.04180383,  0.24957401,  0.38879852,  0.        ],\n",
       "        [ 0.42213599,  1.        ,  0.34144775,  0.05744589,  0.0531742 ,\n",
       "          0.0531742 ,  0.31745656,  0.49454926,  0.        ],\n",
       "        [ 0.12324278,  0.34144775,  1.        ,  0.20026059,  0.05093777,\n",
       "          0.05093777,  0.08659432,  0.09251823,  0.        ],\n",
       "        [ 0.04516209,  0.05744589,  0.20026059,  1.        ,  0.0418149 ,\n",
       "          0.0418149 ,  0.        ,  0.        ,  0.        ],\n",
       "        [ 0.04180383,  0.0531742 ,  0.05093777,  0.0418149 ,  1.        ,\n",
       "          0.14085451,  0.        ,  0.        ,  0.        ],\n",
       "        [ 0.04180383,  0.0531742 ,  0.05093777,  0.0418149 ,  0.14085451,\n",
       "          1.        ,  0.        ,  0.        ,  0.        ],\n",
       "        [ 0.24957401,  0.31745656,  0.08659432,  0.        ,  0.        ,\n",
       "          0.        ,  1.        ,  0.49346246,  0.14869639],\n",
       "        [ 0.38879852,  0.49454926,  0.09251823,  0.        ,  0.        ,\n",
       "          0.        ,  0.49346246,  1.        ,  0.15886871],\n",
       "        [ 0.        ,  0.        ,  0.        ,  0.        ,  0.        ,\n",
       "          0.        ,  0.14869639,  0.15886871,  1.        ]])"
      ]
     },
     "execution_count": 5,
     "metadata": {},
     "output_type": "execute_result"
    }
   ],
   "source": [
    "tfidf = TfidfVectorizer().fit_transform(questions)\n",
    "pairwise_similarity = tfidf * tfidf.T\n",
    "pairwise_similarity.todense()"
   ]
  },
  {
   "cell_type": "markdown",
   "metadata": {},
   "source": [
    "### Windows vs Apple?"
   ]
  },
  {
   "cell_type": "code",
   "execution_count": 6,
   "metadata": {
    "collapsed": false
   },
   "outputs": [
    {
     "name": "stdout",
     "output_type": "stream",
     "text": [
      "13 trillion\n"
     ]
    }
   ],
   "source": [
    "similarity_scores = pairwise_similarity.todense()[question_index][0].tolist()[0]\n",
    "similarity_scores.remove(max(similarity_scores))\n",
    "pred_question_index = similarity_scores.index(max(similarity_scores))\n",
    "print answers[pred_question_index]"
   ]
  },
  {
   "cell_type": "code",
   "execution_count": 141,
   "metadata": {
    "collapsed": false
   },
   "outputs": [
    {
     "name": "stdout",
     "output_type": "stream",
     "text": [
      "[ 0.30060961  0.33222499  0.3671654 ]\n",
      "[[ 0.27809175  0.28010376  0.28212465  0.28415436  0.28619285  0.28824007\n",
      "   0.29029598  0.29236054  0.29443368  0.29651537  0.29860555  0.30070416\n",
      "   0.30281115  0.30492647  0.30705006  0.30918186  0.31132181  0.31346985\n",
      "   0.31562592  0.31778995  0.31996189  0.32214165  0.32432919  0.32652443\n",
      "   0.32872729  0.33093772  0.33315563  0.33538095  0.33761361  0.33985354\n",
      "   0.34210065  0.34435487  0.34661611  0.34888431  0.35115937  0.35344121\n",
      "   0.35572975  0.3580249   0.36032658  0.3626347   0.36494917  0.3672699\n",
      "   0.36959679  0.37192976  0.37426872  0.37661357  0.3789642   0.38132054\n",
      "   0.38368248  0.38604991  0.38842275  0.39080089  0.39318423  0.39557266\n",
      "   0.39796609  0.40036441  0.40276751  0.40517529  0.40758764  0.41000445\n",
      "   0.41242562  0.41485103  0.41728058  0.41971414  0.42215162  0.4245929\n",
      "   0.42703786  0.42948639  0.43193838  0.4343937   0.43685226  0.43931391\n",
      "   0.44177856  0.44424608  0.44671635  0.44918926  0.45166468  0.45414249\n",
      "   0.45662258  0.45910482]\n",
      " [ 0.3753846   0.37433837  0.37328753  0.3722321   0.37117211  0.37010758\n",
      "   0.36903852  0.36796498  0.36688696  0.36580451  0.36471764  0.36362638\n",
      "   0.36253077  0.36143083  0.36032658  0.35921807  0.35810532  0.35698836\n",
      "   0.35586723  0.35474195  0.35361257  0.35247911  0.35134162  0.35020012\n",
      "   0.34905465  0.34790526  0.34675197  0.34559482  0.34443386  0.34326912\n",
      "   0.34210065  0.34092848  0.33975266  0.33857322  0.33739021  0.33620368\n",
      "   0.33501366  0.33382021  0.33262336  0.33142316  0.33021966  0.32901291\n",
      "   0.32780295  0.32658983  0.32537359  0.3241543   0.32293199  0.32170672\n",
      "   0.32047854  0.3192475   0.31801365  0.31677704  0.31553773  0.31429577\n",
      "   0.31305122  0.31180412  0.31055453  0.30930251  0.30804811  0.30679139\n",
      "   0.30553241  0.30427123  0.30300789  0.30174246  0.300475    0.29920556\n",
      "   0.29793421  0.29666099  0.29538599  0.29410924  0.29283082  0.29155079\n",
      "   0.2902692   0.28898611  0.2877016   0.28641572  0.28512852  0.28384009\n",
      "   0.28255047  0.28125973]\n",
      " [ 0.34652366  0.34555787  0.34458782  0.34361354  0.34263504  0.34165235\n",
      "   0.34066549  0.33967448  0.33867935  0.33768012  0.33667681  0.33566946\n",
      "   0.33465808  0.3336427   0.33262336  0.33160007  0.33057287  0.32954179\n",
      "   0.32850686  0.3274681   0.32642554  0.32537923  0.32432919  0.32327545\n",
      "   0.32221806  0.32115703  0.32009241  0.31902423  0.31795253  0.31687734\n",
      "   0.3157987   0.31471665  0.31363123  0.31254247  0.31145042  0.31035511\n",
      "   0.30925659  0.30815489  0.30705006  0.30594214  0.30483117  0.30371719\n",
      "   0.30260026  0.30148041  0.30035768  0.29923213  0.2981038   0.29697274\n",
      "   0.29583898  0.29470259  0.2935636   0.29242207  0.29127804  0.29013157\n",
      "   0.28898269  0.28783148  0.28667796  0.2855222   0.28436425  0.28320415\n",
      "   0.28204197  0.28087774  0.27971154  0.2785434   0.27737338  0.27620154\n",
      "   0.27502793  0.27385261  0.27267563  0.27149705  0.27031692  0.2691353\n",
      "   0.26795224  0.26676781  0.26558205  0.26439503  0.2632068   0.26201742\n",
      "   0.26082696  0.25963545]]\n"
     ]
    }
   ],
   "source": [
    "\"\"\"Softmax.\"\"\"\n",
    "\n",
    "scores = [1.0, 2.0, 3.0]\n",
    "\n",
    "import numpy as np\n",
    "\n",
    "def softmax(x):\n",
    "    \"\"\"Compute softmax values for each sets of scores in x.\"\"\"\n",
    "    x = np.array(x)\n",
    "    x = x/10\n",
    "    return np.exp(x) / np.sum(np.exp(x),axis=0)\n",
    "print(softmax(scores))\n",
    "\n",
    "# Plot softmax curves\n",
    "import matplotlib.pyplot as plt\n",
    "x = np.arange(-2.0, 6.0, 0.1)\n",
    "scores = np.vstack([x, np.ones_like(x), 0.2 * np.ones_like(x)])\n",
    "\n",
    "\n",
    "print(softmax(scores))\n",
    "plt.plot(x, softmax(scores).T, linewidth=2)\n",
    "plt.show()\n"
   ]
  },
  {
   "cell_type": "code",
   "execution_count": 118,
   "metadata": {
    "collapsed": false
   },
   "outputs": [
    {
     "name": "stdout",
     "output_type": "stream",
     "text": [
      "[[ 0.09003057]\n",
      " [ 0.24472847]\n",
      " [ 0.66524096]]\n",
      "[ 0.09003057  0.24472847  0.66524096]\n"
     ]
    }
   ],
   "source": [
    "print new_x\n",
    "print new_x.reshape(3,)"
   ]
  },
  {
   "cell_type": "code",
   "execution_count": 103,
   "metadata": {
    "collapsed": false
   },
   "outputs": [],
   "source": [
    "x = np.array([[1,2,3,6],[2,4,5,6],[3,8,7,6]])\n",
    "x = np.array([1,2,3])"
   ]
  },
  {
   "cell_type": "code",
   "execution_count": 108,
   "metadata": {
    "collapsed": false
   },
   "outputs": [
    {
     "data": {
      "text/plain": [
       "array([ 0.16666667,  0.33333333,  0.5       ])"
      ]
     },
     "execution_count": 108,
     "metadata": {},
     "output_type": "execute_result"
    }
   ],
   "source": [
    "x/float(x.sum(0))"
   ]
  },
  {
   "cell_type": "code",
   "execution_count": null,
   "metadata": {
    "collapsed": true
   },
   "outputs": [],
   "source": []
  }
 ],
 "metadata": {
  "kernelspec": {
   "display_name": "Python 2",
   "language": "python",
   "name": "python2"
  },
  "language_info": {
   "codemirror_mode": {
    "name": "ipython",
    "version": 2
   },
   "file_extension": ".py",
   "mimetype": "text/x-python",
   "name": "python",
   "nbconvert_exporter": "python",
   "pygments_lexer": "ipython2",
   "version": "2.7.11"
  }
 },
 "nbformat": 4,
 "nbformat_minor": 0
}
